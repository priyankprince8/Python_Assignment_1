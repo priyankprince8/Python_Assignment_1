{
  "nbformat": 4,
  "nbformat_minor": 0,
  "metadata": {
    "colab": {
      "provenance": []
    },
    "kernelspec": {
      "name": "python3",
      "display_name": "Python 3"
    },
    "language_info": {
      "name": "python"
    }
  },
  "cells": [
    {
      "cell_type": "code",
      "execution_count": 2,
      "metadata": {
        "id": "T-F705EUl8_P"
      },
      "outputs": [],
      "source": [
        "#1. In the below elements which of them are values or an expression? eg:- values can be\n",
        "#integer or string and expressions will be mathematical operators.\n",
        "#* - Arithmatic Operator\n",
        "#hello - String Value\n",
        "# -87.8 - Floating-point Value\n",
        "# - Arithmatic Operator\n",
        "#/ - Arithmatic Operator\n",
        "# + - Arithmatic Operator\n",
        "# 6 - Integer"
      ]
    },
    {
      "cell_type": "code",
      "source": [
        "#2. What is the difference between string and variable?\n",
        "# String : A string is a data type used to represent text or a sequence of characters.It is typically enclosed in single (' '), double (\" \"), or triple (''' 'or \"\"\" \") quotes in many programming languages.\n",
        "# Variable:A variable is a symbolic name or identifier that represents a storage location in the computer's memory.Variables are used to store and manipulate data in a program.They can hold various types of data, including strings, numbers, and other data types.Variables are declared and assigned values using an assignment operator (=)."
      ],
      "metadata": {
        "id": "y71kOLBBmssf"
      },
      "execution_count": 3,
      "outputs": []
    },
    {
      "cell_type": "code",
      "source": [
        "#Describe three different data types.\n",
        "#Integers,floating-point numbers, strings.\n"
      ],
      "metadata": {
        "id": "i0Ys9hgGuODd"
      },
      "execution_count": 4,
      "outputs": []
    },
    {
      "cell_type": "code",
      "source": [
        "#4. What is an expression made up of? What do all expressions do?\n",
        "# We can say an expression is a combination of values, variables, operators There are three kinds of expressions: An arithmetic expression evaluates to a single arithmetic value. A character expression evaluates to a single value of type character. A logical or relational expression evaluates to a single logical value. All expressions evaluate (that is, reduce) to a single value."
      ],
      "metadata": {
        "id": "cjXGQLjju-DP"
      },
      "execution_count": 5,
      "outputs": []
    },
    {
      "cell_type": "code",
      "source": [
        "#5. This assignment statements, like spam = 10. What is the difference between an expression and a statement?\n",
        "# An expression evaluates to a single value. A statement does not."
      ],
      "metadata": {
        "id": "sDPQwLruvqBu"
      },
      "execution_count": 6,
      "outputs": []
    },
    {
      "cell_type": "code",
      "source": [
        "# 6. After running the following code, what does the variable bacon contain?\n",
        "#bacon = 22\n",
        "#bacon + 1\n",
        "#The bacon variable is set to 22. The bacon + 1 expression does not reassign the value in bacon (that would need an assignment statement: bacon = bacon + 1)"
      ],
      "metadata": {
        "id": "SoO7S7IL06Ti"
      },
      "execution_count": 8,
      "outputs": []
    },
    {
      "cell_type": "code",
      "source": [
        "#7. What should the values of the following two terms be?\n",
        "#'spam' + 'spamspam': This expression concatenates the string 'spam' with the string 'spamspam'. The result is the concatenation of the two strings, which is 'spamspamspam'\n",
        "#'spam' * 3: This expression multiplies the string 'spam' by 3. The result is a new string that repeats 'spam' three times: 'spamspamspam'"
      ],
      "metadata": {
        "id": "3moXO53O1Bxi"
      },
      "execution_count": 9,
      "outputs": []
    },
    {
      "cell_type": "code",
      "source": [
        "#8. Why is eggs a valid variable name while 100 is invalid?\n",
        "#eggs: This is a valid variable name because it starts with a letter ('e') and is followed by other letters.\n",
        "#100: This is invalid as a variable name because it starts with a digit. Variable names cannot start with a digit in most programming languages."
      ],
      "metadata": {
        "id": "lbo9wZRs4_O2"
      },
      "execution_count": 10,
      "outputs": []
    },
    {
      "cell_type": "code",
      "source": [
        "#9. What three functions can be used to get the integer, floating-point number, or string version of a value?\n",
        "#int() function: Converts a value to an integer.Example: int(5.7) will return 5.\n",
        "#float() function:Converts a value to a floating-point number.Example: float(5) will return 5.0.\n",
        "#str() function:Converts a value to a string.Example: str(5.7) will return the string '5.7'."
      ],
      "metadata": {
        "id": "6x_1kH_W5dbd"
      },
      "execution_count": 11,
      "outputs": []
    },
    {
      "cell_type": "code",
      "source": [
        "#10. Why does this expression cause an error? How can you fix it? 'I have eaten' + 99 + 'burritos.'\n",
        "#The expression causes an error because 99 is an integer, and only strings can be concatenated to other strings with the + operator. The correct way is I have eaten ' + str(99) + ' burritos.'."
      ],
      "metadata": {
        "id": "5VD0rmBL7mkh"
      },
      "execution_count": 12,
      "outputs": []
    },
    {
      "cell_type": "code",
      "source": [],
      "metadata": {
        "id": "-e7hWdns8gpx"
      },
      "execution_count": null,
      "outputs": []
    }
  ]
}